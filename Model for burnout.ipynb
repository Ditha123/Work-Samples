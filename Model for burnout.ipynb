{
 "cells": [
  {
   "cell_type": "code",
   "execution_count": 23,
   "id": "ee7338d3",
   "metadata": {},
   "outputs": [],
   "source": [
    "import numpy as np\n",
    "import pandas as pd\n",
    "import matplotlib.pyplot as plt\n",
    "%matplotlib inline\n",
    "from sklearn import linear_model\n",
    "from sklearn.model_selection import train_test_split\n",
    "from sklearn import datasets\n",
    "import seaborn as sns"
   ]
  },
  {
   "cell_type": "code",
   "execution_count": 24,
   "id": "ee44cfdb",
   "metadata": {},
   "outputs": [],
   "source": [
    "df = pd.read_csv('/Users/niveditaarvind/Documents/570 Assignment 4.csv')\n",
    "df_test = df\n",
    "df_Regress = pd.DataFrame(df_test[{'Years of Service','n_meetings_organized_m1','Usually, I can manage the amount of my work well (likert-scale)'}])"
   ]
  },
  {
   "cell_type": "code",
   "execution_count": 34,
   "id": "0a130eac",
   "metadata": {},
   "outputs": [
    {
     "name": "stdout",
     "output_type": "stream",
     "text": [
      "      Usually, I can manage the amount of my work well (likert-scale)  \\\n",
      "0                                                   3.0                 \n",
      "2                                                   4.0                 \n",
      "3                                                   4.0                 \n",
      "4                                                   2.0                 \n",
      "6                                                   4.0                 \n",
      "...                                                 ...                 \n",
      "1382                                                2.0                 \n",
      "1384                                                3.0                 \n",
      "1385                                                4.0                 \n",
      "1386                                                3.0                 \n",
      "1387                                                4.0                 \n",
      "\n",
      "      n_meetings_organized_m1  Years of Service  \n",
      "0                        28.0              10.4  \n",
      "2                         2.0               2.1  \n",
      "3                         1.0               1.9  \n",
      "4                         1.0               0.7  \n",
      "6                         2.0               1.8  \n",
      "...                       ...               ...  \n",
      "1382                      9.0               0.8  \n",
      "1384                      5.0               4.3  \n",
      "1385                     33.0               4.4  \n",
      "1386                      3.0               1.7  \n",
      "1387                      4.0               0.8  \n",
      "\n",
      "[1004 rows x 3 columns]\n"
     ]
    },
    {
     "data": {
      "text/plain": [
       "(1004, 3)"
      ]
     },
     "execution_count": 34,
     "metadata": {},
     "output_type": "execute_result"
    }
   ],
   "source": [
    "df_Regress = df_Regress_m.apply(pd.to_numeric, errors='coerce')\n",
    "df_Regress = df_Regress_m.dropna()\n",
    "print (df_Regress)\n",
    "\n",
    "\n",
    "\n",
    "df_Regress.shape"
   ]
  },
  {
   "cell_type": "code",
   "execution_count": 27,
   "id": "72d981a4",
   "metadata": {},
   "outputs": [],
   "source": [
    "X = df_Regress[{'n_meetings_organized_m1', 'Years of Service'}]\n",
    "y = df_Regress['Usually, I can manage the amount of my work well (likert-scale)']"
   ]
  },
  {
   "cell_type": "code",
   "execution_count": 35,
   "id": "7f1b7d4c",
   "metadata": {},
   "outputs": [
    {
     "data": {
      "text/html": [
       "<div>\n",
       "<style scoped>\n",
       "    .dataframe tbody tr th:only-of-type {\n",
       "        vertical-align: middle;\n",
       "    }\n",
       "\n",
       "    .dataframe tbody tr th {\n",
       "        vertical-align: top;\n",
       "    }\n",
       "\n",
       "    .dataframe thead th {\n",
       "        text-align: right;\n",
       "    }\n",
       "</style>\n",
       "<table border=\"1\" class=\"dataframe\">\n",
       "  <thead>\n",
       "    <tr style=\"text-align: right;\">\n",
       "      <th></th>\n",
       "      <th>Usually, I can manage the amount of my work well (likert-scale)</th>\n",
       "      <th>n_meetings_organized_m1</th>\n",
       "      <th>Years of Service</th>\n",
       "    </tr>\n",
       "  </thead>\n",
       "  <tbody>\n",
       "    <tr>\n",
       "      <th>Usually, I can manage the amount of my work well (likert-scale)</th>\n",
       "      <td>1.000000</td>\n",
       "      <td>-0.165737</td>\n",
       "      <td>-0.158590</td>\n",
       "    </tr>\n",
       "    <tr>\n",
       "      <th>n_meetings_organized_m1</th>\n",
       "      <td>-0.165737</td>\n",
       "      <td>1.000000</td>\n",
       "      <td>0.204836</td>\n",
       "    </tr>\n",
       "    <tr>\n",
       "      <th>Years of Service</th>\n",
       "      <td>-0.158590</td>\n",
       "      <td>0.204836</td>\n",
       "      <td>1.000000</td>\n",
       "    </tr>\n",
       "  </tbody>\n",
       "</table>\n",
       "</div>"
      ],
      "text/plain": [
       "                                                    Usually, I can manage the amount of my work well (likert-scale)  \\\n",
       "Usually, I can manage the amount of my work wel...                                           1.000000                 \n",
       "n_meetings_organized_m1                                                                     -0.165737                 \n",
       "Years of Service                                                                            -0.158590                 \n",
       "\n",
       "                                                    n_meetings_organized_m1  \\\n",
       "Usually, I can manage the amount of my work wel...                -0.165737   \n",
       "n_meetings_organized_m1                                            1.000000   \n",
       "Years of Service                                                   0.204836   \n",
       "\n",
       "                                                    Years of Service  \n",
       "Usually, I can manage the amount of my work wel...         -0.158590  \n",
       "n_meetings_organized_m1                                     0.204836  \n",
       "Years of Service                                            1.000000  "
      ]
     },
     "execution_count": 35,
     "metadata": {},
     "output_type": "execute_result"
    }
   ],
   "source": [
    "df_Regress.corr()"
   ]
  },
  {
   "cell_type": "code",
   "execution_count": 28,
   "id": "d83f117a",
   "metadata": {},
   "outputs": [],
   "source": [
    "from sklearn.model_selection import train_test_split\n",
    "X_train, X_test, y_train, y_test = train_test_split(X, y, test_size=0.2, random_state=123)"
   ]
  },
  {
   "cell_type": "code",
   "execution_count": null,
   "id": "bb4a742b",
   "metadata": {},
   "outputs": [],
   "source": [
    "#sns.set(style=\"ticks\", color_codes=True)\n",
    "#sns.pairplot(df,kind=\"reg\")"
   ]
  },
  {
   "cell_type": "code",
   "execution_count": 41,
   "id": "d3704cb0",
   "metadata": {},
   "outputs": [],
   "source": [
    "from sklearn.preprocessing import StandardScaler\n",
    "\n",
    "sc = StandardScaler()  \n",
    "X_train = sc.fit_transform(X_train)  \n",
    "X_test = sc.transform(X_test)  "
   ]
  },
  {
   "cell_type": "code",
   "execution_count": 42,
   "id": "977eab75",
   "metadata": {},
   "outputs": [
    {
     "data": {
      "text/plain": [
       "LinearRegression()"
      ]
     },
     "execution_count": 42,
     "metadata": {},
     "output_type": "execute_result"
    }
   ],
   "source": [
    "from sklearn.linear_model import LinearRegression  \n",
    "linear_model = LinearRegression()  \n",
    "linear_model.fit(X_train, y_train)"
   ]
  },
  {
   "cell_type": "code",
   "execution_count": 43,
   "id": "be2c4f03",
   "metadata": {},
   "outputs": [
    {
     "name": "stdout",
     "output_type": "stream",
     "text": [
      "4.057285180572852\n"
     ]
    }
   ],
   "source": [
    "# Intercept\n",
    "print(linear_model.intercept_)"
   ]
  },
  {
   "cell_type": "code",
   "execution_count": 44,
   "id": "1f684709",
   "metadata": {},
   "outputs": [
    {
     "name": "stdout",
     "output_type": "stream",
     "text": [
      "Coefficients: \n",
      " [-0.09924417 -0.11783852]\n"
     ]
    }
   ],
   "source": [
    "# The coefficients\n",
    "print('Coefficients: \\n', linear_model.coef_)"
   ]
  },
  {
   "cell_type": "code",
   "execution_count": 45,
   "id": "8a0222b6",
   "metadata": {},
   "outputs": [],
   "source": [
    "y_pred = linear_model.predict(X_test)"
   ]
  },
  {
   "cell_type": "code",
   "execution_count": 47,
   "id": "f293dd53",
   "metadata": {},
   "outputs": [
    {
     "name": "stdout",
     "output_type": "stream",
     "text": [
      "Mean Absolute Error: 0.5557744784286198\n",
      "Mean Squared Error:  0.5826905798539285\n",
      "Root Mean Squared Error: 0.7633417189266735\n"
     ]
    }
   ],
   "source": [
    "from sklearn import metrics  \n",
    "print('Mean Absolute Error:',  metrics.mean_absolute_error(y_test, y_pred))  \n",
    "print('Mean Squared Error: ',  metrics.mean_squared_error(y_test, y_pred))  \n",
    "print('Root Mean Squared Error:',  np.sqrt(metrics.mean_squared_error(y_test, y_pred)))"
   ]
  },
  {
   "cell_type": "code",
   "execution_count": 48,
   "id": "e5ce5a5a",
   "metadata": {},
   "outputs": [
    {
     "name": "stdout",
     "output_type": "stream",
     "text": [
      "[-0.09924417 -0.11783852]\n"
     ]
    }
   ],
   "source": [
    "\n",
    "print(linear_model.coef_) \n"
   ]
  },
  {
   "cell_type": "code",
   "execution_count": 50,
   "id": "58548b34",
   "metadata": {},
   "outputs": [
    {
     "data": {
      "text/plain": [
       "0.04972097311811974"
      ]
     },
     "execution_count": 50,
     "metadata": {},
     "output_type": "execute_result"
    }
   ],
   "source": [
    "linear_model.score(X_train, y_train)"
   ]
  },
  {
   "cell_type": "code",
   "execution_count": 29,
   "id": "2ede51cf",
   "metadata": {},
   "outputs": [],
   "source": [
    "import statsmodels.api as sm"
   ]
  },
  {
   "cell_type": "code",
   "execution_count": 30,
   "id": "cec9ce22",
   "metadata": {},
   "outputs": [
    {
     "name": "stderr",
     "output_type": "stream",
     "text": [
      "/opt/anaconda3/lib/python3.9/site-packages/statsmodels/tsa/tsatools.py:142: FutureWarning: In a future version of pandas all arguments of concat except for the argument 'objs' will be keyword-only\n",
      "  x = pd.concat(x[::order], 1)\n"
     ]
    }
   ],
   "source": [
    "X_sm = sm.add_constant(X)"
   ]
  },
  {
   "cell_type": "code",
   "execution_count": 31,
   "id": "296bf198",
   "metadata": {},
   "outputs": [],
   "source": [
    "model = sm.OLS(y, X_sm).fit()"
   ]
  },
  {
   "cell_type": "code",
   "execution_count": 32,
   "id": "a9ad0a57",
   "metadata": {},
   "outputs": [
    {
     "data": {
      "text/plain": [
       "const                      4.262118\n",
       "n_meetings_organized_m1   -0.005740\n",
       "Years of Service          -0.045955\n",
       "dtype: float64"
      ]
     },
     "execution_count": 32,
     "metadata": {},
     "output_type": "execute_result"
    }
   ],
   "source": [
    "model.params\n"
   ]
  },
  {
   "cell_type": "code",
   "execution_count": 33,
   "id": "c19c5e6d",
   "metadata": {},
   "outputs": [
    {
     "data": {
      "text/html": [
       "<table class=\"simpletable\">\n",
       "<caption>OLS Regression Results</caption>\n",
       "<tr>\n",
       "  <th>Dep. Variable:</th>    <td>Usually, I can manage the amount of my work well (likert-scale)</td> <th>  R-squared:         </th> <td>   0.044</td>\n",
       "</tr>\n",
       "<tr>\n",
       "  <th>Model:</th>                                          <td>OLS</td>                               <th>  Adj. R-squared:    </th> <td>   0.042</td>\n",
       "</tr>\n",
       "<tr>\n",
       "  <th>Method:</th>                                    <td>Least Squares</td>                          <th>  F-statistic:       </th> <td>   22.86</td>\n",
       "</tr>\n",
       "<tr>\n",
       "  <th>Date:</th>                                    <td>Sun, 01 May 2022</td>                         <th>  Prob (F-statistic):</th> <td>1.95e-10</td>\n",
       "</tr>\n",
       "<tr>\n",
       "  <th>Time:</th>                                        <td>20:01:56</td>                             <th>  Log-Likelihood:    </th> <td> -1132.1</td>\n",
       "</tr>\n",
       "<tr>\n",
       "  <th>No. Observations:</th>                             <td>  1004</td>                              <th>  AIC:               </th> <td>   2270.</td>\n",
       "</tr>\n",
       "<tr>\n",
       "  <th>Df Residuals:</th>                                 <td>  1001</td>                              <th>  BIC:               </th> <td>   2285.</td>\n",
       "</tr>\n",
       "<tr>\n",
       "  <th>Df Model:</th>                                     <td>     2</td>                              <th>                     </th>     <td> </td>   \n",
       "</tr>\n",
       "<tr>\n",
       "  <th>Covariance Type:</th>                             <td>nonrobust</td>                            <th>                     </th>     <td> </td>   \n",
       "</tr>\n",
       "</table>\n",
       "<table class=\"simpletable\">\n",
       "<tr>\n",
       "             <td></td>                <th>coef</th>     <th>std err</th>      <th>t</th>      <th>P>|t|</th>  <th>[0.025</th>    <th>0.975]</th>  \n",
       "</tr>\n",
       "<tr>\n",
       "  <th>const</th>                   <td>    4.2621</td> <td>    0.041</td> <td>  103.776</td> <td> 0.000</td> <td>    4.182</td> <td>    4.343</td>\n",
       "</tr>\n",
       "<tr>\n",
       "  <th>n_meetings_organized_m1</th> <td>   -0.0057</td> <td>    0.001</td> <td>   -4.405</td> <td> 0.000</td> <td>   -0.008</td> <td>   -0.003</td>\n",
       "</tr>\n",
       "<tr>\n",
       "  <th>Years of Service</th>        <td>   -0.0460</td> <td>    0.011</td> <td>   -4.120</td> <td> 0.000</td> <td>   -0.068</td> <td>   -0.024</td>\n",
       "</tr>\n",
       "</table>\n",
       "<table class=\"simpletable\">\n",
       "<tr>\n",
       "  <th>Omnibus:</th>       <td>85.399</td> <th>  Durbin-Watson:     </th> <td>   1.941</td>\n",
       "</tr>\n",
       "<tr>\n",
       "  <th>Prob(Omnibus):</th> <td> 0.000</td> <th>  Jarque-Bera (JB):  </th> <td> 110.044</td>\n",
       "</tr>\n",
       "<tr>\n",
       "  <th>Skew:</th>          <td>-0.713</td> <th>  Prob(JB):          </th> <td>1.27e-24</td>\n",
       "</tr>\n",
       "<tr>\n",
       "  <th>Kurtosis:</th>      <td> 3.771</td> <th>  Cond. No.          </th> <td>    43.8</td>\n",
       "</tr>\n",
       "</table><br/><br/>Notes:<br/>[1] Standard Errors assume that the covariance matrix of the errors is correctly specified."
      ],
      "text/plain": [
       "<class 'statsmodels.iolib.summary.Summary'>\n",
       "\"\"\"\n",
       "                                                   OLS Regression Results                                                  \n",
       "===========================================================================================================================\n",
       "Dep. Variable:     Usually, I can manage the amount of my work well (likert-scale)   R-squared:                       0.044\n",
       "Model:                                                                         OLS   Adj. R-squared:                  0.042\n",
       "Method:                                                              Least Squares   F-statistic:                     22.86\n",
       "Date:                                                             Sun, 01 May 2022   Prob (F-statistic):           1.95e-10\n",
       "Time:                                                                     20:01:56   Log-Likelihood:                -1132.1\n",
       "No. Observations:                                                             1004   AIC:                             2270.\n",
       "Df Residuals:                                                                 1001   BIC:                             2285.\n",
       "Df Model:                                                                        2                                         \n",
       "Covariance Type:                                                         nonrobust                                         \n",
       "===========================================================================================\n",
       "                              coef    std err          t      P>|t|      [0.025      0.975]\n",
       "-------------------------------------------------------------------------------------------\n",
       "const                       4.2621      0.041    103.776      0.000       4.182       4.343\n",
       "n_meetings_organized_m1    -0.0057      0.001     -4.405      0.000      -0.008      -0.003\n",
       "Years of Service           -0.0460      0.011     -4.120      0.000      -0.068      -0.024\n",
       "==============================================================================\n",
       "Omnibus:                       85.399   Durbin-Watson:                   1.941\n",
       "Prob(Omnibus):                  0.000   Jarque-Bera (JB):              110.044\n",
       "Skew:                          -0.713   Prob(JB):                     1.27e-24\n",
       "Kurtosis:                       3.771   Cond. No.                         43.8\n",
       "==============================================================================\n",
       "\n",
       "Notes:\n",
       "[1] Standard Errors assume that the covariance matrix of the errors is correctly specified.\n",
       "\"\"\""
      ]
     },
     "execution_count": 33,
     "metadata": {},
     "output_type": "execute_result"
    }
   ],
   "source": [
    "model.summary()"
   ]
  },
  {
   "cell_type": "code",
   "execution_count": 47,
   "id": "17b5fcae",
   "metadata": {},
   "outputs": [
    {
     "name": "stdout",
     "output_type": "stream",
     "text": [
      "Mean Absolute Error: 0.5557744784286199\n",
      "Mean Squared Error:  0.5826905798539285\n",
      "Root Mean Squared Error: 0.7633417189266735\n"
     ]
    }
   ],
   "source": [
    "from sklearn import metrics  \n",
    "print('Mean Absolute Error:',  metrics.mean_absolute_error(y_test, y_pred))  \n",
    "print('Mean Squared Error: ',  metrics.mean_squared_error(y_test, y_pred))  \n",
    "print('Root Mean Squared Error:',  np.sqrt(metrics.mean_squared_error(y_test, y_pred)))"
   ]
  }
 ],
 "metadata": {
  "kernelspec": {
   "display_name": "Python 3 (ipykernel)",
   "language": "python",
   "name": "python3"
  },
  "language_info": {
   "codemirror_mode": {
    "name": "ipython",
    "version": 3
   },
   "file_extension": ".py",
   "mimetype": "text/x-python",
   "name": "python",
   "nbconvert_exporter": "python",
   "pygments_lexer": "ipython3",
   "version": "3.9.7"
  }
 },
 "nbformat": 4,
 "nbformat_minor": 5
}
