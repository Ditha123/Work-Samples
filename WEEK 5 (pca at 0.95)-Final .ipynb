{
 "cells": [
  {
   "cell_type": "code",
   "execution_count": 1,
   "id": "039d524f",
   "metadata": {},
   "outputs": [],
   "source": [
    "import numpy as np\n",
    "import pandas as pd\n",
    "import matplotlib.pyplot as plt\n",
    "%matplotlib inline\n",
    "from sklearn import linear_model\n",
    "from sklearn.model_selection import train_test_split\n",
    "from sklearn import datasets\n",
    "import seaborn as sns"
   ]
  },
  {
   "cell_type": "code",
   "execution_count": 2,
   "id": "5c0e0fe4",
   "metadata": {},
   "outputs": [],
   "source": [
    "#from sklearn.datasets import load_boston\n",
    "boston = datasets.load_boston() \n",
    "## Price and associated features\n",
    "df_x = pd.DataFrame(boston.data, columns = boston.feature_names)\n",
    "## only price \n",
    "df_y = pd.DataFrame(boston.target, columns = ['price'])"
   ]
  },
  {
   "cell_type": "code",
   "execution_count": 3,
   "id": "36019593",
   "metadata": {},
   "outputs": [
    {
     "data": {
      "text/plain": [
       "price\n",
       "50.0     16\n",
       "25.0      8\n",
       "22.0      7\n",
       "23.1      7\n",
       "21.7      7\n",
       "         ..\n",
       "25.3      1\n",
       "25.2      1\n",
       "25.1      1\n",
       "6.3       1\n",
       "7.4       1\n",
       "Length: 229, dtype: int64"
      ]
     },
     "execution_count": 3,
     "metadata": {},
     "output_type": "execute_result"
    }
   ],
   "source": [
    "### count of the price values \n",
    "df_y.value_counts()"
   ]
  },
  {
   "cell_type": "code",
   "execution_count": 4,
   "id": "48f6fd21",
   "metadata": {},
   "outputs": [
    {
     "data": {
      "text/plain": [
       "CRIM      ZN    INDUS  CHAS  NOX    RM     AGE    DIS      RAD   TAX    PTRATIO  B       LSTAT\n",
       "0.00632   18.0  2.31   0.0   0.538  6.575  65.2   4.0900   1.0   296.0  15.3     396.90  4.98     1\n",
       "1.00245   0.0   8.14   0.0   0.538  6.674  87.3   4.2390   4.0   307.0  21.0     380.23  11.98    1\n",
       "1.38799   0.0   8.14   0.0   0.538  5.950  82.0   3.9900   4.0   307.0  21.0     232.60  27.71    1\n",
       "1.35472   0.0   8.14   0.0   0.538  6.072  100.0  4.1750   4.0   307.0  21.0     376.73  13.04    1\n",
       "1.34284   0.0   19.58  0.0   0.605  6.066  100.0  1.7573   5.0   403.0  14.7     353.89  6.43     1\n",
       "                                                                                                 ..\n",
       "0.11027   25.0  5.13   0.0   0.453  6.456  67.8   7.2255   8.0   284.0  19.7     396.90  6.73     1\n",
       "0.10959   0.0   11.93  0.0   0.573  6.794  89.3   2.3889   1.0   273.0  21.0     393.45  6.48     1\n",
       "0.10793   0.0   8.56   0.0   0.520  6.195  54.4   2.7778   5.0   384.0  20.9     393.49  13.00    1\n",
       "0.10659   80.0  1.91   0.0   0.413  5.936  19.5   10.5857  4.0   334.0  22.0     376.04  5.57     1\n",
       "88.97620  0.0   18.10  0.0   0.671  6.968  91.9   1.4165   24.0  666.0  20.2     396.90  17.21    1\n",
       "Length: 506, dtype: int64"
      ]
     },
     "execution_count": 4,
     "metadata": {},
     "output_type": "execute_result"
    }
   ],
   "source": [
    "df_x.value_counts()"
   ]
  },
  {
   "cell_type": "code",
   "execution_count": 5,
   "id": "3b3bbe18",
   "metadata": {},
   "outputs": [],
   "source": [
    "## setting the x and y values for our analyses \n",
    "X = df_x \n",
    "y = df_y"
   ]
  },
  {
   "cell_type": "code",
   "execution_count": 6,
   "id": "6bbb3afb",
   "metadata": {},
   "outputs": [],
   "source": [
    "# Splitting the dataset into the Training set and Test set\n",
    "from sklearn.model_selection import train_test_split\n",
    "\n",
    "X_train, X_test, y_train, y_test = train_test_split(X, y, test_size=0.2, random_state=0) "
   ]
  },
  {
   "cell_type": "code",
   "execution_count": 7,
   "id": "17972f4f",
   "metadata": {},
   "outputs": [],
   "source": [
    "### scaling the dataset to units of variance and on a standard normal distribution so it can be used for the Linear Regression later on\n",
    "from sklearn.preprocessing import StandardScaler\n",
    "\n",
    "sc = StandardScaler()  \n",
    "X_train = sc.fit_transform(X_train)  \n",
    "X_test = sc.transform(X_test)  "
   ]
  },
  {
   "cell_type": "code",
   "execution_count": 8,
   "id": "96312f0b",
   "metadata": {},
   "outputs": [],
   "source": [
    "### PCA for the 13 features and not the price set hence X train is called \n",
    "from sklearn.decomposition import PCA\n",
    "\n",
    "pca = PCA()  \n",
    "X_train = pca.fit_transform(X_train)  \n",
    "X_test = pca.transform(X_test)  "
   ]
  },
  {
   "cell_type": "code",
   "execution_count": 9,
   "id": "c7cd1a0a",
   "metadata": {},
   "outputs": [
    {
     "data": {
      "text/plain": [
       "array([0.47141676, 0.10796713, 0.09762974, 0.06960265, 0.06250519,\n",
       "       0.05146177, 0.04131275, 0.02909632, 0.0223605 , 0.01562077,\n",
       "       0.01396296, 0.01216231, 0.00490115])"
      ]
     },
     "execution_count": 9,
     "metadata": {},
     "output_type": "execute_result"
    }
   ],
   "source": [
    "#float type array which contains variance ratios for each principal component.\n",
    "explained_variance = pca.explained_variance_ratio_ \n",
    "explained_variance"
   ]
  },
  {
   "cell_type": "code",
   "execution_count": 10,
   "id": "64304d28",
   "metadata": {},
   "outputs": [
    {
     "data": {
      "text/plain": [
       "Text(0.5, 1.0, 'variance')"
      ]
     },
     "execution_count": 10,
     "metadata": {},
     "output_type": "execute_result"
    },
    {
     "data": {
      "image/png": "[encoded data removed]",
      "text/plain": [
       "<Figure size 432x288 with 1 Axes>"
      ]
     },
     "metadata": {
      "needs_background": "light"
     },
     "output_type": "display_data"
    }
   ],
   "source": [
    "## The changes in the curve regarding variance-- as seen with the variance, there is a steep curve (0.4-0.1) \n",
    "pca = {'PC1','PC2','PC3','PC4', 'PC5', 'PC6','PC7','PC8','PC9','PC10','PC11','PC12','PC13'}\n",
    "plt.plot(explained_variance)\n",
    "plt.title(\"variance\")"
   ]
  },
  {
   "cell_type": "code",
   "execution_count": 11,
   "id": "94ba86a3",
   "metadata": {},
   "outputs": [],
   "source": [
    "### running a PCA with a 0.95 threshold  or retaining atleast 95% of the information \n",
    "from sklearn.decomposition import PCA\n",
    "\n",
    "pca = PCA(0.95)  \n",
    "X_train = pca.fit_transform(X_train)  \n",
    "X_test = pca.transform(X_test)  "
   ]
  },
  {
   "cell_type": "code",
   "execution_count": 12,
   "id": "a2af5e8a",
   "metadata": {},
   "outputs": [
    {
     "data": {
      "text/plain": [
       "LinearRegression()"
      ]
     },
     "execution_count": 12,
     "metadata": {},
     "output_type": "execute_result"
    }
   ],
   "source": [
    "## Running a Linear regression with the PCA data \n",
    "from sklearn.linear_model import LinearRegression  \n",
    "linear_model = LinearRegression()  \n",
    "linear_model.fit(X_train, y_train)"
   ]
  },
  {
   "cell_type": "code",
   "execution_count": 13,
   "id": "7c4fed91",
   "metadata": {},
   "outputs": [
    {
     "name": "stdout",
     "output_type": "stream",
     "text": [
      "[22.61188119]\n"
     ]
    }
   ],
   "source": [
    "## the y value when x=0\n",
    "print(linear_model.intercept_)"
   ]
  },
  {
   "cell_type": "code",
   "execution_count": 14,
   "id": "29add460",
   "metadata": {},
   "outputs": [
    {
     "name": "stdout",
     "output_type": "stream",
     "text": [
      "[[-2.4629899   1.95254089  3.66013002 -0.57705985 -2.02273292 -0.13200149\n",
      "  -0.34601445  0.97399857  0.12990453]]\n"
     ]
    }
   ],
   "source": [
    "### the values or three coefficients based on 10 principle components identified through the PCA. The need to retain 95% of the information has resulted in more variables being identified through the PCA \n",
    "print(linear_model.coef_) "
   ]
  },
  {
   "cell_type": "code",
   "execution_count": 15,
   "id": "4af9f090",
   "metadata": {},
   "outputs": [
    {
     "data": {
      "text/plain": [
       "0.7469282833918129"
      ]
     },
     "execution_count": 15,
     "metadata": {},
     "output_type": "execute_result"
    }
   ],
   "source": [
    "### almost 95% of the variance in the data can be explained by the model (r2)\n",
    "linear_model.score(X_train, y_train)"
   ]
  },
  {
   "cell_type": "code",
   "execution_count": 16,
   "id": "293f7c46",
   "metadata": {},
   "outputs": [],
   "source": [
    "y_pred = (linear_model.predict(X_test))"
   ]
  },
  {
   "cell_type": "code",
   "execution_count": 17,
   "id": "de67609d",
   "metadata": {},
   "outputs": [
    {
     "data": {
      "text/plain": [
       "price    4.106623\n",
       "dtype: float64"
      ]
     },
     "execution_count": 17,
     "metadata": {},
     "output_type": "execute_result"
    }
   ],
   "source": [
    "np.mean(np.abs(y_pred-y_test))"
   ]
  },
  {
   "cell_type": "code",
   "execution_count": 18,
   "id": "b38bafd2",
   "metadata": {},
   "outputs": [
    {
     "name": "stdout",
     "output_type": "stream",
     "text": [
      "Mean Absolute Error: 4.106622938608525\n",
      "Mean Squared Error: 39.710071009579316\n",
      "Root Mean Squared Error: 6.301592735934251\n"
     ]
    }
   ],
   "source": [
    "from sklearn import metrics  \n",
    "print('Mean Absolute Error:', metrics.mean_absolute_error(y_test, y_pred))  \n",
    "print('Mean Squared Error:', metrics.mean_squared_error(y_test, y_pred))  \n",
    "print('Root Mean Squared Error:', np.sqrt(metrics.mean_squared_error(y_test, y_pred)))"
   ]
  },
  {
   "cell_type": "code",
   "execution_count": 19,
   "id": "6eaea12c",
   "metadata": {},
   "outputs": [
    {
     "data": {
      "text/plain": [
       "0.7411474573779204"
      ]
     },
     "execution_count": 19,
     "metadata": {},
     "output_type": "execute_result"
    }
   ],
   "source": [
    "### accounts for the variables that have a corelation in this model 74.1% for 10 factors in this case. \n",
    "adjusted_r_squared = 1 - (1-linear_model.score(X_train, y_train))*(len(y_train)-1)/(len(y_train)-X_train.shape[1]-1)\n",
    "adjusted_r_squared"
   ]
  },
  {
   "cell_type": "code",
   "execution_count": null,
   "id": "d955c3b6",
   "metadata": {},
   "outputs": [],
   "source": [
    "## The r2 value with a PCA threshold of 0.75 is 0.699 and the adjusted r2 value is 0.697\n",
    "## The r2 value with a PCA threshold of 0.95 is 0.747 and the adjusted r2 value is 0.741\n",
    "####### The adjusted r2 value reduces by almost 0.5%. \n",
    "## the model with a pca threshold of 0.95 is a better fit since it accounts for almost 75% of the variance compared to appx 70%. \n",
    "## However it is interesting to note that the change in the r2 value only increases by appx 5% by adding 7 factors (10 vs 3) as identified with the pca. \n"
   ]
  }
 ],
 "metadata": {
  "kernelspec": {
   "display_name": "Python 3",
   "language": "python",
   "name": "python3"
  },
  "language_info": {
   "codemirror_mode": {
    "name": "ipython",
    "version": 3
   },
   "file_extension": ".py",
   "mimetype": "text/x-python",
   "name": "python",
   "nbconvert_exporter": "python",
   "pygments_lexer": "ipython3",
   "version": "3.8.8"
  }
 },
 "nbformat": 4,
 "nbformat_minor": 5
}
